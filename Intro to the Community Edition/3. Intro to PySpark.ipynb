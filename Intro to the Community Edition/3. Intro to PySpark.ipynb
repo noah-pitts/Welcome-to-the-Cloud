{
 "cells": [
  {
   "cell_type": "markdown",
   "metadata": {
    "application/vnd.databricks.v1+cell": {
     "cellMetadata": {},
     "inputWidgets": {},
     "nuid": "44c69dbf-31c6-4e08-a48c-8b0f2af623d6",
     "showTitle": false,
     "title": ""
    }
   },
   "source": [
    "# Intro to PySpark\n",
    "\n",
    "In this module, we will introduce [PySpark](https://spark.apache.org/docs/3.3.1/api/python/index.html#:~:text=PySpark%20is%20an%20interface%20for,data%20in%20a%20distributed%20environment.) - the Python API for Apache Spark.\n",
    "\n",
    "If you know Python, PySpark will come naturally.\n",
    "\n",
    "Here is a great aritcle to check out if you want learn more: [__What is PySpark?__](https://www.databricks.com/glossary/pyspark)\n",
    "\n",
    "\n",
    ">📋🐍 - We will run thru some simple __PySpark__ operations in this notebook.\n",
    "\n",
    "\n",
    "---\n",
    "__Last Update:__ 11 JUNE 2024"
   ]
  },
  {
   "cell_type": "markdown",
   "metadata": {
    "application/vnd.databricks.v1+cell": {
     "cellMetadata": {},
     "inputWidgets": {},
     "nuid": "9a005fcd-bb19-48a2-b288-25b104772dd6",
     "showTitle": false,
     "title": ""
    }
   },
   "source": [
    "#3.1 - Get your hands on some data ✋\n",
    "\n",
    "🏎️ - For this exercise, get our [Formula 1 World Championship](https://www.kaggle.com/datasets/rohanrao/formula-1-world-championship-1950-2020) data from Kaggle\n",
    "\n",
    "\n",
    ">Note: These will be CSV files. Make sure to complete __Notebook #2 -  Intro to Data Tasks__ before getting started here. "
   ]
  },
  {
   "cell_type": "code",
   "execution_count": 0,
   "metadata": {
    "application/vnd.databricks.v1+cell": {
     "cellMetadata": {
      "byteLimit": 2048000,
      "rowLimit": 10000
     },
     "inputWidgets": {},
     "nuid": "d532a3cb-e2d1-4546-8b8d-d50af24fec7f",
     "showTitle": true,
     "title": "3.1.1 - Create constructors_df"
    }
   },
   "outputs": [
    {
     "output_type": "display_data",
     "data": {
      "text/html": [
       "<style scoped>\n",
       "  .table-result-container {\n",
       "    max-height: 300px;\n",
       "    overflow: auto;\n",
       "  }\n",
       "  table, th, td {\n",
       "    border: 1px solid black;\n",
       "    border-collapse: collapse;\n",
       "  }\n",
       "  th, td {\n",
       "    padding: 5px;\n",
       "  }\n",
       "  th {\n",
       "    text-align: left;\n",
       "  }\n",
       "</style><div class='table-result-container'><table class='table-result'><thead style='background-color: white'><tr><th>constructorId</th><th>constructorRef</th><th>name</th><th>nationality</th><th>url</th></tr></thead><tbody><tr><td>1</td><td>mclaren</td><td>McLaren</td><td>British</td><td>http://en.wikipedia.org/wiki/McLaren</td></tr><tr><td>2</td><td>bmw_sauber</td><td>BMW Sauber</td><td>German</td><td>http://en.wikipedia.org/wiki/BMW_Sauber</td></tr><tr><td>3</td><td>williams</td><td>Williams</td><td>British</td><td>http://en.wikipedia.org/wiki/Williams_Grand_Prix_Engineering</td></tr><tr><td>4</td><td>renault</td><td>Renault</td><td>French</td><td>http://en.wikipedia.org/wiki/Renault_in_Formula_One</td></tr><tr><td>5</td><td>toro_rosso</td><td>Toro Rosso</td><td>Italian</td><td>http://en.wikipedia.org/wiki/Scuderia_Toro_Rosso</td></tr><tr><td>6</td><td>ferrari</td><td>Ferrari</td><td>Italian</td><td>http://en.wikipedia.org/wiki/Scuderia_Ferrari</td></tr><tr><td>7</td><td>toyota</td><td>Toyota</td><td>Japanese</td><td>http://en.wikipedia.org/wiki/Toyota_Racing</td></tr><tr><td>8</td><td>super_aguri</td><td>Super Aguri</td><td>Japanese</td><td>http://en.wikipedia.org/wiki/Super_Aguri_F1</td></tr><tr><td>9</td><td>red_bull</td><td>Red Bull</td><td>Austrian</td><td>http://en.wikipedia.org/wiki/Red_Bull_Racing</td></tr><tr><td>10</td><td>force_india</td><td>Force India</td><td>Indian</td><td>http://en.wikipedia.org/wiki/Racing_Point_Force_India</td></tr></tbody></table></div>"
      ]
     },
     "metadata": {
      "application/vnd.databricks.v1+output": {
       "addedWidgets": {},
       "aggData": [],
       "aggError": "",
       "aggOverflow": false,
       "aggSchema": [],
       "aggSeriesLimitReached": false,
       "aggType": "",
       "arguments": {},
       "columnCustomDisplayInfos": {},
       "data": [
        [
         1,
         "mclaren",
         "McLaren",
         "British",
         "http://en.wikipedia.org/wiki/McLaren"
        ],
        [
         2,
         "bmw_sauber",
         "BMW Sauber",
         "German",
         "http://en.wikipedia.org/wiki/BMW_Sauber"
        ],
        [
         3,
         "williams",
         "Williams",
         "British",
         "http://en.wikipedia.org/wiki/Williams_Grand_Prix_Engineering"
        ],
        [
         4,
         "renault",
         "Renault",
         "French",
         "http://en.wikipedia.org/wiki/Renault_in_Formula_One"
        ],
        [
         5,
         "toro_rosso",
         "Toro Rosso",
         "Italian",
         "http://en.wikipedia.org/wiki/Scuderia_Toro_Rosso"
        ],
        [
         6,
         "ferrari",
         "Ferrari",
         "Italian",
         "http://en.wikipedia.org/wiki/Scuderia_Ferrari"
        ],
        [
         7,
         "toyota",
         "Toyota",
         "Japanese",
         "http://en.wikipedia.org/wiki/Toyota_Racing"
        ],
        [
         8,
         "super_aguri",
         "Super Aguri",
         "Japanese",
         "http://en.wikipedia.org/wiki/Super_Aguri_F1"
        ],
        [
         9,
         "red_bull",
         "Red Bull",
         "Austrian",
         "http://en.wikipedia.org/wiki/Red_Bull_Racing"
        ],
        [
         10,
         "force_india",
         "Force India",
         "Indian",
         "http://en.wikipedia.org/wiki/Racing_Point_Force_India"
        ]
       ],
       "datasetInfos": [],
       "dbfsResultPath": null,
       "isJsonSchema": true,
       "metadata": {},
       "overflow": false,
       "plotOptions": {
        "customPlotOptions": {},
        "displayType": "table",
        "pivotAggregation": null,
        "pivotColumns": null,
        "xColumns": null,
        "yColumns": null
       },
       "removedWidgets": [],
       "schema": [
        {
         "metadata": "{}",
         "name": "constructorId",
         "type": "\"integer\""
        },
        {
         "metadata": "{}",
         "name": "constructorRef",
         "type": "\"string\""
        },
        {
         "metadata": "{}",
         "name": "name",
         "type": "\"string\""
        },
        {
         "metadata": "{}",
         "name": "nationality",
         "type": "\"string\""
        },
        {
         "metadata": "{}",
         "name": "url",
         "type": "\"string\""
        }
       ],
       "type": "table"
      }
     },
     "output_type": "display_data"
    }
   ],
   "source": [
    "#This is a dataframe of Construtors that have competed in F1\n",
    "constructors_df = spark.read.option(\"header\",\"true\").option(\"inferSchema\",\"true\").csv(\"dbfs:/FileStore/tables/constructors.csv\")\n",
    "display(constructors_df.limit(10)) "
   ]
  },
  {
   "cell_type": "code",
   "execution_count": 0,
   "metadata": {
    "application/vnd.databricks.v1+cell": {
     "cellMetadata": {
      "byteLimit": 2048000,
      "rowLimit": 10000
     },
     "inputWidgets": {},
     "nuid": "3174bd36-15c8-44a5-8a47-3f8fbac69ae3",
     "showTitle": true,
     "title": "3.1.2 - Create constructor_results_df"
    }
   },
   "outputs": [
    {
     "output_type": "display_data",
     "data": {
      "text/html": [
       "<style scoped>\n",
       "  .table-result-container {\n",
       "    max-height: 300px;\n",
       "    overflow: auto;\n",
       "  }\n",
       "  table, th, td {\n",
       "    border: 1px solid black;\n",
       "    border-collapse: collapse;\n",
       "  }\n",
       "  th, td {\n",
       "    padding: 5px;\n",
       "  }\n",
       "  th {\n",
       "    text-align: left;\n",
       "  }\n",
       "</style><div class='table-result-container'><table class='table-result'><thead style='background-color: white'><tr><th>constructorResultsId</th><th>raceId</th><th>constructorId</th><th>points</th><th>status</th></tr></thead><tbody><tr><td>1</td><td>18</td><td>1</td><td>14.0</td><td>\\N</td></tr><tr><td>2</td><td>18</td><td>2</td><td>8.0</td><td>\\N</td></tr><tr><td>3</td><td>18</td><td>3</td><td>9.0</td><td>\\N</td></tr><tr><td>4</td><td>18</td><td>4</td><td>5.0</td><td>\\N</td></tr><tr><td>5</td><td>18</td><td>5</td><td>2.0</td><td>\\N</td></tr><tr><td>6</td><td>18</td><td>6</td><td>1.0</td><td>\\N</td></tr><tr><td>7</td><td>18</td><td>7</td><td>0.0</td><td>\\N</td></tr><tr><td>8</td><td>18</td><td>8</td><td>0.0</td><td>\\N</td></tr><tr><td>9</td><td>18</td><td>9</td><td>0.0</td><td>\\N</td></tr><tr><td>10</td><td>18</td><td>10</td><td>0.0</td><td>\\N</td></tr></tbody></table></div>"
      ]
     },
     "metadata": {
      "application/vnd.databricks.v1+output": {
       "addedWidgets": {},
       "aggData": [],
       "aggError": "",
       "aggOverflow": false,
       "aggSchema": [],
       "aggSeriesLimitReached": false,
       "aggType": "",
       "arguments": {},
       "columnCustomDisplayInfos": {},
       "data": [
        [
         1,
         18,
         1,
         14.0,
         "\\N"
        ],
        [
         2,
         18,
         2,
         8.0,
         "\\N"
        ],
        [
         3,
         18,
         3,
         9.0,
         "\\N"
        ],
        [
         4,
         18,
         4,
         5.0,
         "\\N"
        ],
        [
         5,
         18,
         5,
         2.0,
         "\\N"
        ],
        [
         6,
         18,
         6,
         1.0,
         "\\N"
        ],
        [
         7,
         18,
         7,
         0.0,
         "\\N"
        ],
        [
         8,
         18,
         8,
         0.0,
         "\\N"
        ],
        [
         9,
         18,
         9,
         0.0,
         "\\N"
        ],
        [
         10,
         18,
         10,
         0.0,
         "\\N"
        ]
       ],
       "datasetInfos": [],
       "dbfsResultPath": null,
       "isJsonSchema": true,
       "metadata": {},
       "overflow": false,
       "plotOptions": {
        "customPlotOptions": {},
        "displayType": "table",
        "pivotAggregation": null,
        "pivotColumns": null,
        "xColumns": null,
        "yColumns": null
       },
       "removedWidgets": [],
       "schema": [
        {
         "metadata": "{}",
         "name": "constructorResultsId",
         "type": "\"integer\""
        },
        {
         "metadata": "{}",
         "name": "raceId",
         "type": "\"integer\""
        },
        {
         "metadata": "{}",
         "name": "constructorId",
         "type": "\"integer\""
        },
        {
         "metadata": "{}",
         "name": "points",
         "type": "\"double\""
        },
        {
         "metadata": "{}",
         "name": "status",
         "type": "\"string\""
        }
       ],
       "type": "table"
      }
     },
     "output_type": "display_data"
    }
   ],
   "source": [
    "#This is a dataframe of race resutls of the constructor's championship\n",
    "constructor_results_df = spark.read.option(\"header\",\"true\").option(\"inferSchema\",\"true\").csv(\"dbfs:/FileStore/tables/constructor_results.csv\")\n",
    "display(constructor_results_df.limit(10)) "
   ]
  },
  {
   "cell_type": "markdown",
   "metadata": {
    "application/vnd.databricks.v1+cell": {
     "cellMetadata": {},
     "inputWidgets": {},
     "nuid": "27711f1b-9d71-48a1-bdfc-b0945f3365bc",
     "showTitle": false,
     "title": ""
    }
   },
   "source": [
    "#3.2 - PySpark Commands 🐍\n",
    "\n",
    "Now that we have our data, lets answer another question using _PySpark_!\n",
    "\n",
    ">💭 - Which constructor has scored the __most points in F1 History__?\n"
   ]
  },
  {
   "cell_type": "markdown",
   "metadata": {
    "application/vnd.databricks.v1+cell": {
     "cellMetadata": {},
     "inputWidgets": {},
     "nuid": "3224f2a2-83a1-42f5-9936-2f56575c822d",
     "showTitle": false,
     "title": ""
    }
   },
   "source": [
    "🤝 - __Joins__ allow you to combine two or more tables together if they have a common column.\n",
    "\n",
    "In this scenario - we will be joining our 2 tables together on the \"constructorID\" column.\n",
    "\n",
    "> __Alex The Analyst__ has great video on Joins if you want to know more: [Joins in MySQL | Intermediate MySQL](https://www.youtube.com/watch?v=lXQzD09BOH0)"
   ]
  },
  {
   "cell_type": "code",
   "execution_count": 0,
   "metadata": {
    "application/vnd.databricks.v1+cell": {
     "cellMetadata": {
      "byteLimit": 2048000,
      "rowLimit": 10000
     },
     "inputWidgets": {},
     "nuid": "aedc52ca-44d7-4d8d-b0b2-41f0be654daa",
     "showTitle": true,
     "title": "3.2.1 - Join DataFrames with PySpark"
    }
   },
   "outputs": [
    {
     "output_type": "display_data",
     "data": {
      "text/html": [
       "<style scoped>\n",
       "  .table-result-container {\n",
       "    max-height: 300px;\n",
       "    overflow: auto;\n",
       "  }\n",
       "  table, th, td {\n",
       "    border: 1px solid black;\n",
       "    border-collapse: collapse;\n",
       "  }\n",
       "  th, td {\n",
       "    padding: 5px;\n",
       "  }\n",
       "  th {\n",
       "    text-align: left;\n",
       "  }\n",
       "</style><div class='table-result-container'><table class='table-result'><thead style='background-color: white'><tr><th>name</th><th>nationality</th><th>points</th></tr></thead><tbody><tr><td>McLaren</td><td>British</td><td>14.0</td></tr><tr><td>BMW Sauber</td><td>German</td><td>8.0</td></tr><tr><td>Williams</td><td>British</td><td>9.0</td></tr><tr><td>Renault</td><td>French</td><td>5.0</td></tr><tr><td>Toro Rosso</td><td>Italian</td><td>2.0</td></tr><tr><td>Ferrari</td><td>Italian</td><td>1.0</td></tr><tr><td>Toyota</td><td>Japanese</td><td>0.0</td></tr><tr><td>Super Aguri</td><td>Japanese</td><td>0.0</td></tr><tr><td>Red Bull</td><td>Austrian</td><td>0.0</td></tr><tr><td>Force India</td><td>Indian</td><td>0.0</td></tr></tbody></table></div>"
      ]
     },
     "metadata": {
      "application/vnd.databricks.v1+output": {
       "addedWidgets": {},
       "aggData": [],
       "aggError": "",
       "aggOverflow": false,
       "aggSchema": [],
       "aggSeriesLimitReached": false,
       "aggType": "",
       "arguments": {},
       "columnCustomDisplayInfos": {},
       "data": [
        [
         "McLaren",
         "British",
         14.0
        ],
        [
         "BMW Sauber",
         "German",
         8.0
        ],
        [
         "Williams",
         "British",
         9.0
        ],
        [
         "Renault",
         "French",
         5.0
        ],
        [
         "Toro Rosso",
         "Italian",
         2.0
        ],
        [
         "Ferrari",
         "Italian",
         1.0
        ],
        [
         "Toyota",
         "Japanese",
         0.0
        ],
        [
         "Super Aguri",
         "Japanese",
         0.0
        ],
        [
         "Red Bull",
         "Austrian",
         0.0
        ],
        [
         "Force India",
         "Indian",
         0.0
        ]
       ],
       "datasetInfos": [],
       "dbfsResultPath": null,
       "isJsonSchema": true,
       "metadata": {},
       "overflow": false,
       "plotOptions": {
        "customPlotOptions": {},
        "displayType": "table",
        "pivotAggregation": null,
        "pivotColumns": null,
        "xColumns": null,
        "yColumns": null
       },
       "removedWidgets": [],
       "schema": [
        {
         "metadata": "{}",
         "name": "name",
         "type": "\"string\""
        },
        {
         "metadata": "{}",
         "name": "nationality",
         "type": "\"string\""
        },
        {
         "metadata": "{}",
         "name": "points",
         "type": "\"double\""
        }
       ],
       "type": "table"
      }
     },
     "output_type": "display_data"
    }
   ],
   "source": [
    "\n",
    "#Here - we join the constructor information with the race results information for further analysis\n",
    "points_df = constructors_df.join(constructor_results_df, constructors_df[\"constructorID\"] == constructor_results_df[\"constructorID\"]).select(\"name\",\"nationality\", \"points\")\n",
    "\n",
    "points_df.limit(10).display()"
   ]
  },
  {
   "cell_type": "markdown",
   "metadata": {
    "application/vnd.databricks.v1+cell": {
     "cellMetadata": {},
     "inputWidgets": {},
     "nuid": "44a22c55-b3e1-4e27-bd1c-a5a2b72724b6",
     "showTitle": false,
     "title": ""
    }
   },
   "source": [
    "__groupBy()__ allows you to group together rows that have the same value.\n",
    "\n",
    "In this scenario - we will perform __groupBy()__ on the points column to see how many points each constructor has earned during its time in F1.\n",
    "\n",
    "> [__Spark By {Examples}__](https://sparkbyexamples.com/) is another great resource to reference on your learning journey: [PySpark Groupby Explanined with Examples](https://sparkbyexamples.com/pyspark/pyspark-groupby-explained-with-example/) \n"
   ]
  },
  {
   "cell_type": "code",
   "execution_count": 0,
   "metadata": {
    "application/vnd.databricks.v1+cell": {
     "cellMetadata": {
      "byteLimit": 2048000,
      "rowLimit": 10000
     },
     "inputWidgets": {},
     "nuid": "ca103929-8f45-4d7a-8700-b85f0064890d",
     "showTitle": true,
     "title": "3.2.2 - Group a Dataframe with groupBy"
    }
   },
   "outputs": [
    {
     "output_type": "display_data",
     "data": {
      "text/html": [
       "<style scoped>\n",
       "  .table-result-container {\n",
       "    max-height: 300px;\n",
       "    overflow: auto;\n",
       "  }\n",
       "  table, th, td {\n",
       "    border: 1px solid black;\n",
       "    border-collapse: collapse;\n",
       "  }\n",
       "  th, td {\n",
       "    padding: 5px;\n",
       "  }\n",
       "  th {\n",
       "    text-align: left;\n",
       "  }\n",
       "</style><div class='table-result-container'><table class='table-result'><thead style='background-color: white'><tr><th>name</th><th>points</th></tr></thead><tbody><tr><td>Shannon</td><td>0.0</td></tr><tr><td>Shadow</td><td>58.0</td></tr><tr><td>Cooper-Castellotti</td><td>3.0</td></tr><tr><td>Leyton House</td><td>8.0</td></tr><tr><td>Shadow-Matra</td><td>0.0</td></tr><tr><td>Politoys</td><td>0.0</td></tr><tr><td>Lotus-Pratt &amp; Whitney</td><td>0.0</td></tr><tr><td>Cooper-OSCA</td><td>0.0</td></tr><tr><td>Coloni</td><td>0.0</td></tr><tr><td>Onyx</td><td>6.0</td></tr></tbody></table></div>"
      ]
     },
     "metadata": {
      "application/vnd.databricks.v1+output": {
       "addedWidgets": {},
       "aggData": [],
       "aggError": "",
       "aggOverflow": false,
       "aggSchema": [],
       "aggSeriesLimitReached": false,
       "aggType": "",
       "arguments": {},
       "columnCustomDisplayInfos": {},
       "data": [
        [
         "Shannon",
         0.0
        ],
        [
         "Shadow",
         58.0
        ],
        [
         "Cooper-Castellotti",
         3.0
        ],
        [
         "Leyton House",
         8.0
        ],
        [
         "Shadow-Matra",
         0.0
        ],
        [
         "Politoys",
         0.0
        ],
        [
         "Lotus-Pratt &amp; Whitney",
         0.0
        ],
        [
         "Cooper-OSCA",
         0.0
        ],
        [
         "Coloni",
         0.0
        ],
        [
         "Onyx",
         6.0
        ]
       ],
       "datasetInfos": [],
       "dbfsResultPath": null,
       "isJsonSchema": true,
       "metadata": {},
       "overflow": false,
       "plotOptions": {
        "customPlotOptions": {},
        "displayType": "table",
        "pivotAggregation": null,
        "pivotColumns": null,
        "xColumns": null,
        "yColumns": null
       },
       "removedWidgets": [],
       "schema": [
        {
         "metadata": "{}",
         "name": "name",
         "type": "\"string\""
        },
        {
         "metadata": "{}",
         "name": "points",
         "type": "\"double\""
        }
       ],
       "type": "table"
      }
     },
     "output_type": "display_data"
    }
   ],
   "source": [
    "#Using the newly created points_df, we can see how many points each construtor has earned in its F1 history\n",
    "grouped_points_df = points_df.select(\"*\").groupBy(\"name\").sum(\"points\").withColumnRenamed(\"sum(points)\", \"points\")\n",
    "display(grouped_points_df.limit(10))"
   ]
  },
  {
   "cell_type": "markdown",
   "metadata": {
    "application/vnd.databricks.v1+cell": {
     "cellMetadata": {},
     "inputWidgets": {},
     "nuid": "c7c04e24-7181-4b4a-b0ae-3d708a538576",
     "showTitle": false,
     "title": ""
    }
   },
   "source": [
    "Lastly, we can us [__Sort__](https://spark.apache.org/docs/3.1.2/api/python/reference/api/pyspark.sql.DataFrame.sort.html) to return a dataframe that is sorted by the specified column.\n",
    "\n",
    "Here - we will sort the __grouped_points_df__ to see which constructor has scored the most points in F1 \n",
    "\n",
    ">Hint: 🟥🟨\n"
   ]
  },
  {
   "cell_type": "code",
   "execution_count": 0,
   "metadata": {
    "application/vnd.databricks.v1+cell": {
     "cellMetadata": {
      "byteLimit": 2048000,
      "rowLimit": 10000
     },
     "inputWidgets": {},
     "nuid": "c447522e-4c75-4783-a2b1-94a253f2cc62",
     "showTitle": true,
     "title": "3.2.3 - Sort a Dataframe using"
    }
   },
   "outputs": [
    {
     "output_type": "display_data",
     "data": {
      "text/html": [
       "<style scoped>\n",
       "  .table-result-container {\n",
       "    max-height: 300px;\n",
       "    overflow: auto;\n",
       "  }\n",
       "  table, th, td {\n",
       "    border: 1px solid black;\n",
       "    border-collapse: collapse;\n",
       "  }\n",
       "  th, td {\n",
       "    padding: 5px;\n",
       "  }\n",
       "  th {\n",
       "    text-align: left;\n",
       "  }\n",
       "</style><div class='table-result-container'><table class='table-result'><thead style='background-color: white'><tr><th>name</th><th>points</th></tr></thead><tbody><tr><td>Ferrari</td><td>9505.0</td></tr><tr><td>Mercedes</td><td>7060.5</td></tr><tr><td>Red Bull</td><td>6891.0</td></tr><tr><td>McLaren</td><td>6191.5</td></tr><tr><td>Williams</td><td>3609.0</td></tr><tr><td>Renault</td><td>1777.0</td></tr><tr><td>Force India</td><td>1098.0</td></tr><tr><td>Team Lotus</td><td>918.0</td></tr><tr><td>Benetton</td><td>861.5</td></tr><tr><td>Lotus F1</td><td>706.0</td></tr></tbody></table></div>"
      ]
     },
     "metadata": {
      "application/vnd.databricks.v1+output": {
       "addedWidgets": {},
       "aggData": [],
       "aggError": "",
       "aggOverflow": false,
       "aggSchema": [],
       "aggSeriesLimitReached": false,
       "aggType": "",
       "arguments": {},
       "columnCustomDisplayInfos": {},
       "data": [
        [
         "Ferrari",
         9505.0
        ],
        [
         "Mercedes",
         7060.5
        ],
        [
         "Red Bull",
         6891.0
        ],
        [
         "McLaren",
         6191.5
        ],
        [
         "Williams",
         3609.0
        ],
        [
         "Renault",
         1777.0
        ],
        [
         "Force India",
         1098.0
        ],
        [
         "Team Lotus",
         918.0
        ],
        [
         "Benetton",
         861.5
        ],
        [
         "Lotus F1",
         706.0
        ]
       ],
       "datasetInfos": [],
       "dbfsResultPath": null,
       "isJsonSchema": true,
       "metadata": {},
       "overflow": false,
       "plotOptions": {
        "customPlotOptions": {},
        "displayType": "table",
        "pivotAggregation": null,
        "pivotColumns": null,
        "xColumns": null,
        "yColumns": null
       },
       "removedWidgets": [],
       "schema": [
        {
         "metadata": "{}",
         "name": "name",
         "type": "\"string\""
        },
        {
         "metadata": "{}",
         "name": "points",
         "type": "\"double\""
        }
       ],
       "type": "table"
      }
     },
     "output_type": "display_data"
    }
   ],
   "source": [
    "#Ferrari has scored the most points in the history of F1. The Ferrari Tax pays off!! Grande Machina!!\n",
    "display(grouped_points_df.sort(\"points\", ascending = False).limit(10)) "
   ]
  },
  {
   "cell_type": "markdown",
   "metadata": {
    "application/vnd.databricks.v1+cell": {
     "cellMetadata": {},
     "inputWidgets": {},
     "nuid": "b8aa9538-dd5f-4d1e-8452-7bfa138060a6",
     "showTitle": false,
     "title": ""
    }
   },
   "source": [
    "\n",
    "#🏁 Conclusion - READ THE DOCS!!!\n",
    "\n",
    "By the end of this notebook, you will have been introduced to some __intermediate PySpark__ tasks.\n",
    "\n",
    ">🔐 - If you take anything from this module, remeber to __READ THE DOCS__!!\n",
    "\n",
    "> 📝 - __Technical Reference Documentation__ tells you how to do __EVERYTHING__, you just have to __READ IT__! \n",
    "\n",
    "Here is a link to the [PySpark API Reference](https://spark.apache.org/docs/3.1.2/api/python/reference/index.html) - which holds __all public PySpark modules, classes, functions, and methods.__\n",
    "\n",
    "Docs can be intimidating at first, so dont try to read everything.\n",
    "> 🔑 - __The 80/20 Rule__ - Focus on the most important information you need for your specific task\n"
   ]
  }
 ],
 "metadata": {
  "application/vnd.databricks.v1+notebook": {
   "dashboards": [],
   "environmentMetadata": null,
   "language": "python",
   "notebookMetadata": {
    "pythonIndentUnit": 4
   },
   "notebookName": "3. Intro to PySpark",
   "widgets": {}
  }
 },
 "nbformat": 4,
 "nbformat_minor": 0
}
