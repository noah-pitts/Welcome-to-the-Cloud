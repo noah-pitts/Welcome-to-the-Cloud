{
 "cells": [
  {
   "cell_type": "markdown",
   "metadata": {
    "application/vnd.databricks.v1+cell": {
     "cellMetadata": {},
     "inputWidgets": {},
     "nuid": "2fe822b2-72b2-433c-a318-e73706198c0e",
     "showTitle": false,
     "title": ""
    }
   },
   "source": [
    "# 🏁\n",
    "[__-30-__](https://en.wikipedia.org/wiki/-30-_(The_Wire) is a journalistic term that has been used to signify the end of a story.\n",
    "\n",
    "Im using it here to mark the end of _this_ story.\n",
    "\n",
    "If you are reading this, I want to say __THANK YOU__!\n",
    "\n",
    " You could be anywhere on the internet, but you chose to be here and I am extremely apprciative of you for that.\n",
    "\n",
    ">You have offically been introduced to the __Databricks Community Edition__!!\n",
    "\n"
   ]
  },
  {
   "cell_type": "markdown",
   "metadata": {
    "application/vnd.databricks.v1+cell": {
     "cellMetadata": {},
     "inputWidgets": {},
     "nuid": "96109443-598d-4dc9-8240-0741f5c8885b",
     "showTitle": false,
     "title": ""
    }
   },
   "source": [
    "\n",
    "#🙏🏾\n",
    "\n",
    "This is my first time doing something like this. I pulled from a lot of great people while putting this series together and want to give them all a shout-out!\n",
    "\n",
    "__Thanks to:__\n",
    "\n",
    "- [Khendr'a R.](https://www.linkedin.com/in/khendrareid/)\n",
    "- [Jordan Martz](https://www.linkedin.com/in/jordanmartz/)\n",
    "- [Van Howard](https://www.linkedin.com/in/van-howard-1b8a421/)\n",
    "- [Viju Sebastian](https://www.linkedin.com/in/vijusebastian/)\n",
    "- [Adolfo Rodriguez](https://www.linkedin.com/in/adolfo-rodriguezs/)\n",
    "- [Michael Johns](https://www.linkedin.com/in/michaeljohns2/)\n",
    "- [Pearl Ubaru](https://www.linkedin.com/in/pearl-ubaru/)\n",
    "- [Alvin Alexander](https://www.linkedin.com/in/alvinalexander/)\n",
    "- [Simon Whiteley](https://www.linkedin.com/in/simon-whiteley-uk/)\n",
    "- [Mattias Petter Johansson](https://www.linkedin.com/in/mattiaspetterjohansson/)\n",
    "\n",
    "For Insipring me and always being happy to share your knoweldge with the world!\n",
    "\n"
   ]
  },
  {
   "cell_type": "markdown",
   "metadata": {
    "application/vnd.databricks.v1+cell": {
     "cellMetadata": {},
     "inputWidgets": {},
     "nuid": "ba2380de-05f5-439c-95e3-429acb5b1a9a",
     "showTitle": false,
     "title": ""
    }
   },
   "source": [
    "#👋🏾\n",
    " I wish you well on your learning journey and dont forget, this is just the beginning! \n",
    "\n",
    " __-Noah__"
   ]
  }
 ],
 "metadata": {
  "application/vnd.databricks.v1+notebook": {
   "dashboards": [],
   "environmentMetadata": null,
   "language": "python",
   "notebookMetadata": {
    "pythonIndentUnit": 4
   },
   "notebookName": "4.  -30-",
   "widgets": {}
  }
 },
 "nbformat": 4,
 "nbformat_minor": 0
}
