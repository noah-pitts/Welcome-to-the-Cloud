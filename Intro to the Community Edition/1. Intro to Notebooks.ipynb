{
 "cells": [
  {
   "cell_type": "markdown",
   "metadata": {
    "application/vnd.databricks.v1+cell": {
     "cellMetadata": {},
     "inputWidgets": {},
     "nuid": "41237e33-a59e-490b-a070-90ed1e43feef",
     "showTitle": false,
     "title": ""
    }
   },
   "source": [
    "# Intro - Welcome to a Notebook!\n",
    "\n",
    "> 📓- [Notebooks](https://docs.databricks.com/en/notebooks/index.html) are the connection between __you__ and the *Databricks workspace*.\n",
    " \n",
    " They provide you the ability to develop code and create visuals.\n",
    " \n",
    " In this section, I'll introduce you to the following notebook basics:\n",
    "\n",
    "1. How to Attach Notebooks to Clusters - 🟢\n",
    "1. Running your code - 🏃\n",
    "1. Using Markdown - 🖹\n",
    "1. dbutils - 🛠️\n",
    "\n",
    "---\n",
    "__Last Update:__ 11 June 2024 "
   ]
  },
  {
   "cell_type": "markdown",
   "metadata": {
    "application/vnd.databricks.v1+cell": {
     "cellMetadata": {},
     "inputWidgets": {},
     "nuid": "2bceeda1-9432-47b6-9ad2-c49b3d86f8bc",
     "showTitle": false,
     "title": ""
    }
   },
   "source": [
    "# 1.1 - Attaching to a Cluster - 🟢\n",
    "\n",
    ">Use the dropdown menu in the top right to deploy a [cluster](https://docs.databricks.com/en/compute/index.html).\n",
    "\n",
    " Once deployed, connect to it and  look for a solid green circle (🟢) to the left of your cluster name.\n",
    "\n",
    " When you see that, you are ready to __run some code__!\n",
    "\n"
   ]
  },
  {
   "cell_type": "markdown",
   "metadata": {
    "application/vnd.databricks.v1+cell": {
     "cellMetadata": {},
     "inputWidgets": {},
     "nuid": "d91b489b-dd4d-45aa-ad5f-6832976bf939",
     "showTitle": false,
     "title": ""
    }
   },
   "source": [
    "# 1.2 - Running some code - 🏃\n",
    "\n",
    "> Run your code in different languages using [magic commands](https://docs.databricks.com/en/notebooks/notebooks-code.html#mix-languages)\n",
    "\n",
    "Note: This is *not* a series where I teach you how to code.\n",
    "\n",
    "There are many good resources on the internet where you can learn the skill, and i'll reference some of those resources in the following code cells.\n",
    "\n",
    "If you are just starting out, know that coding gets easier. The hard part is doing it __[EVERY DAY](https://www.youtube.com/watch?v=hRcWl8k6WQU)__.\n",
    "\n"
   ]
  },
  {
   "cell_type": "markdown",
   "metadata": {
    "application/vnd.databricks.v1+cell": {
     "cellMetadata": {},
     "inputWidgets": {},
     "nuid": "ddf40f9a-b2b3-4e6d-9a1a-c39f7ed7f2f3",
     "showTitle": false,
     "title": ""
    }
   },
   "source": [
    "###1.2.1 - Run some Python\n",
    "\n",
    "[__w3schools__](https://www.w3schools.com/python/) a great place to learn.\n",
    "\n",
    "> It's also easy to use since you can code directly in your web browser!"
   ]
  },
  {
   "cell_type": "code",
   "execution_count": 0,
   "metadata": {
    "application/vnd.databricks.v1+cell": {
     "cellMetadata": {
      "byteLimit": 2048000,
      "rowLimit": 10000
     },
     "inputWidgets": {},
     "nuid": "2f94ed8b-20cb-4939-b115-01cbc3da2366",
     "showTitle": true,
     "title": "Run some Python pt. 1"
    }
   },
   "outputs": [
    {
     "output_type": "stream",
     "name": "stdout",
     "output_type": "stream",
     "text": [
      "hello world\n"
     ]
    }
   ],
   "source": [
    "print(\"hello world\")"
   ]
  },
  {
   "cell_type": "markdown",
   "metadata": {
    "application/vnd.databricks.v1+cell": {
     "cellMetadata": {},
     "inputWidgets": {},
     "nuid": "a12d46e8-a91d-4852-b775-1116048f1476",
     "showTitle": false,
     "title": ""
    }
   },
   "source": [
    "###1.2.2 - Run some Scala\n",
    "\n",
    "Scala has a special place in my heart. It was the first programming language I taught myself to use while on my first job in tech.\n",
    "\n",
    "[The Scala Cookbook](http://scalacookbook.com/) was my main refernece material.\n",
    "\n",
    "The Author, __[Alvin Alexander](https://www.youtube.com/watch?v=DcmUA6nEkWs&t=1s)__, inspired me a lot during my learning journey (and still does!)\n",
    "\n",
    "> You can check out his website [here](https://alvinalexander.com/about-al-alexander/).\n"
   ]
  },
  {
   "cell_type": "code",
   "execution_count": 0,
   "metadata": {
    "application/vnd.databricks.v1+cell": {
     "cellMetadata": {
      "byteLimit": 2048000,
      "rowLimit": 10000
     },
     "inputWidgets": {},
     "nuid": "bd54debb-d1ac-4f44-8119-a0fb1f9581ca",
     "showTitle": true,
     "title": "Run some Scala pt. 1"
    }
   },
   "outputs": [
    {
     "output_type": "display_data",
     "data": {
      "text/html": [
       "<style scoped>\n",
       "  .ansiout {\n",
       "    display: block;\n",
       "    unicode-bidi: embed;\n",
       "    white-space: pre-wrap;\n",
       "    word-wrap: break-word;\n",
       "    word-break: break-all;\n",
       "    font-family: \"Menlo\", \"Monaco\", \"Consolas\", \"Ubuntu Mono\", \"Source Code Pro\", monospace;\n",
       "    font-size: 13px;\n",
       "    color: #555;\n",
       "    margin-left: 4px;\n",
       "    line-height: 19px;\n",
       "  }\n",
       "</style>\n",
       "<div class=\"ansiout\">hello world\n",
       "</div>"
      ]
     },
     "metadata": {
      "application/vnd.databricks.v1+output": {
       "addedWidgets": {},
       "arguments": {},
       "data": "<div class=\"ansiout\">hello world\n</div>",
       "datasetInfos": [],
       "metadata": {
        "isDbfsCommandResult": false
       },
       "removedWidgets": [],
       "type": "html"
      }
     },
     "output_type": "display_data"
    }
   ],
   "source": [
    "%scala\n",
    "println(\"hello world\")"
   ]
  },
  {
   "cell_type": "markdown",
   "metadata": {
    "application/vnd.databricks.v1+cell": {
     "cellMetadata": {},
     "inputWidgets": {},
     "nuid": "7601acc4-fd5a-4619-b439-ade30521b232",
     "showTitle": false,
     "title": ""
    }
   },
   "source": [
    "###1.2.3 - Run some SQL\n",
    "\n",
    "w3schools has multiple lanugages on the site!\n",
    "\n",
    "> [w3schools](https://www.w3schools.com/sql/)\n"
   ]
  },
  {
   "cell_type": "code",
   "execution_count": 0,
   "metadata": {
    "application/vnd.databricks.v1+cell": {
     "cellMetadata": {
      "byteLimit": 2048000,
      "implicitDf": true,
      "rowLimit": 10000
     },
     "inputWidgets": {},
     "nuid": "f7d6b099-ab2b-4249-a6c0-708be4a07930",
     "showTitle": true,
     "title": "Run some SQL pt. 1"
    }
   },
   "outputs": [
    {
     "output_type": "display_data",
     "data": {
      "text/html": [
       "<style scoped>\n",
       "  .table-result-container {\n",
       "    max-height: 300px;\n",
       "    overflow: auto;\n",
       "  }\n",
       "  table, th, td {\n",
       "    border: 1px solid black;\n",
       "    border-collapse: collapse;\n",
       "  }\n",
       "  th, td {\n",
       "    padding: 5px;\n",
       "  }\n",
       "  th {\n",
       "    text-align: left;\n",
       "  }\n",
       "</style><div class='table-result-container'><table class='table-result'><thead style='background-color: white'><tr><th>num_affected_rows</th><th>num_inserted_rows</th></tr></thead><tbody><tr><td>4</td><td>4</td></tr></tbody></table></div>"
      ]
     },
     "metadata": {
      "application/vnd.databricks.v1+output": {
       "addedWidgets": {},
       "aggData": [],
       "aggError": "",
       "aggOverflow": false,
       "aggSchema": [],
       "aggSeriesLimitReached": false,
       "aggType": "",
       "arguments": {},
       "columnCustomDisplayInfos": {},
       "data": [
        [
         4,
         4
        ]
       ],
       "datasetInfos": [],
       "dbfsResultPath": null,
       "isJsonSchema": true,
       "metadata": {},
       "overflow": false,
       "plotOptions": {
        "customPlotOptions": {},
        "displayType": "table",
        "pivotAggregation": null,
        "pivotColumns": null,
        "xColumns": null,
        "yColumns": null
       },
       "removedWidgets": [],
       "schema": [
        {
         "metadata": "{}",
         "name": "num_affected_rows",
         "type": "\"long\""
        },
        {
         "metadata": "{}",
         "name": "num_inserted_rows",
         "type": "\"long\""
        }
       ],
       "type": "table"
      }
     },
     "output_type": "display_data"
    }
   ],
   "source": [
    "%sql\n",
    "-- Ref SQL course\n",
    "\n",
    "-- I'm creating a table of currencies I have/want to collect. What do you like to collect? Think you could make it a table?\n",
    "CREATE TABLE IF NOT EXISTS currencies(\n",
    "  CurrencyName varchar(255),\n",
    "  Country varchar(255),\n",
    "  CurrencyCode varchar(255)\n",
    ");\n",
    "\n",
    "-- Insert some sample data into the currencies table\n",
    "INSERT INTO currencies (CurrencyName, Country, CurrencyCode)\n",
    "VALUES ('United States dollar','United States','USD'),\n",
    "       ('Canadian dollar','Canada','CAD'),\n",
    "       ('Nigerian naira','Nigeria','NGN'),\n",
    "       ('Swiss franc','Switzerland','CHF');"
   ]
  },
  {
   "cell_type": "code",
   "execution_count": 0,
   "metadata": {
    "application/vnd.databricks.v1+cell": {
     "cellMetadata": {
      "byteLimit": 2048000,
      "implicitDf": true,
      "rowLimit": 10000
     },
     "inputWidgets": {},
     "nuid": "9d30284f-2c81-4dda-acf1-d28c32f83916",
     "showTitle": true,
     "title": "Run some SQL pt. 2"
    }
   },
   "outputs": [
    {
     "output_type": "display_data",
     "data": {
      "text/html": [
       "<style scoped>\n",
       "  .table-result-container {\n",
       "    max-height: 300px;\n",
       "    overflow: auto;\n",
       "  }\n",
       "  table, th, td {\n",
       "    border: 1px solid black;\n",
       "    border-collapse: collapse;\n",
       "  }\n",
       "  th, td {\n",
       "    padding: 5px;\n",
       "  }\n",
       "  th {\n",
       "    text-align: left;\n",
       "  }\n",
       "</style><div class='table-result-container'><table class='table-result'><thead style='background-color: white'><tr><th>CurrencyName</th><th>Country</th><th>CurrencyCode</th></tr></thead><tbody><tr><td>United States dollar</td><td>United States</td><td>USD</td></tr><tr><td>Canadian dollar</td><td>Canada</td><td>CAD</td></tr><tr><td>Nigerian naira</td><td>Nigeria</td><td>NGN</td></tr><tr><td>Swiss franc</td><td>Switzerland</td><td>CHF</td></tr></tbody></table></div>"
      ]
     },
     "metadata": {
      "application/vnd.databricks.v1+output": {
       "addedWidgets": {},
       "aggData": [],
       "aggError": "",
       "aggOverflow": false,
       "aggSchema": [],
       "aggSeriesLimitReached": false,
       "aggType": "",
       "arguments": {},
       "columnCustomDisplayInfos": {},
       "data": [
        [
         "United States dollar",
         "United States",
         "USD"
        ],
        [
         "Canadian dollar",
         "Canada",
         "CAD"
        ],
        [
         "Nigerian naira",
         "Nigeria",
         "NGN"
        ],
        [
         "Swiss franc",
         "Switzerland",
         "CHF"
        ]
       ],
       "datasetInfos": [],
       "dbfsResultPath": null,
       "isJsonSchema": true,
       "metadata": {},
       "overflow": false,
       "plotOptions": {
        "customPlotOptions": {},
        "displayType": "table",
        "pivotAggregation": null,
        "pivotColumns": null,
        "xColumns": null,
        "yColumns": null
       },
       "removedWidgets": [],
       "schema": [
        {
         "metadata": "{\"__CHAR_VARCHAR_TYPE_STRING\":\"varchar(255)\"}",
         "name": "CurrencyName",
         "type": "\"string\""
        },
        {
         "metadata": "{\"__CHAR_VARCHAR_TYPE_STRING\":\"varchar(255)\"}",
         "name": "Country",
         "type": "\"string\""
        },
        {
         "metadata": "{\"__CHAR_VARCHAR_TYPE_STRING\":\"varchar(255)\"}",
         "name": "CurrencyCode",
         "type": "\"string\""
        }
       ],
       "type": "table"
      }
     },
     "output_type": "display_data"
    }
   ],
   "source": [
    "%sql\n",
    "select * from currencies --See the table you created!"
   ]
  },
  {
   "cell_type": "markdown",
   "metadata": {
    "application/vnd.databricks.v1+cell": {
     "cellMetadata": {},
     "inputWidgets": {},
     "nuid": "ecd8e03a-f35b-4fab-b7c6-7a26bb2cee89",
     "showTitle": false,
     "title": ""
    }
   },
   "source": [
    "# 1.3 - Markdown Cells - 🖹\n",
    "\n",
    "[Markdown](https://www.markdownguide.org/getting-started/) is an easy-to-use markup langauge that allows you to add formatting elements to your text.\n",
    "\n",
    ">Learn it. It increases your ablitity to communitcate through code. This is an fundamentally important skill you will need on your data journey \n"
   ]
  },
  {
   "cell_type": "code",
   "execution_count": 0,
   "metadata": {
    "application/vnd.databricks.v1+cell": {
     "cellMetadata": {},
     "inputWidgets": {},
     "nuid": "d3b18401-8164-4883-87b9-2c1364bd8c76",
     "showTitle": true,
     "title": "Run some Markdown"
    }
   },
   "outputs": [],
   "source": [
    "#Double click the cell below to give it a shot!"
   ]
  },
  {
   "cell_type": "markdown",
   "metadata": {
    "application/vnd.databricks.v1+cell": {
     "cellMetadata": {},
     "inputWidgets": {},
     "nuid": "f748c766-81e3-4f03-b59f-462676eb5971",
     "showTitle": false,
     "title": ""
    }
   },
   "source": [
    "[__Double click__] this cell to give it a shot.\n",
    "\n",
    "This is the markdown \"hello world\" code\n",
    "\n",
    "You can make words __Bold__\n",
    "\n",
    "You can make words _italicized_\n",
    "\n",
    "You can make lists (as short or long as you need)\n",
    "\n",
    "1. Big Me\n",
    "\n",
    "You can link to websites\n",
    "\n",
    ">Add me on [Linkedin](https://www.linkedin.com/in/noah-pitts/)! \n",
    "\n",
    "You can add images using the [FileStore](https://docs.databricks.com/en/dbfs/filestore.html)!\n",
    "\n",
    "And so much [more](https://docs.databricks.com/en/visualizations/html-d3-and-svg.html)!"
   ]
  },
  {
   "cell_type": "markdown",
   "metadata": {
    "application/vnd.databricks.v1+cell": {
     "cellMetadata": {},
     "inputWidgets": {},
     "nuid": "9d900314-ead9-49d1-9d4c-747615346b20",
     "showTitle": false,
     "title": ""
    }
   },
   "source": [
    "# 1.4 - Intro to dbutils - 🛠️\n",
    "\n",
    "> Databricks Utilities ([dbutils](https://docs.databricks.com/en/dev-tools/databricks-utils.html)) are a set of tools you need to have in your toolkit. They allow you to work with the [DBFS](https://docs.databricks.com/en/dbfs/index.html) and programatiaclly navigate to files in your workspace\n",
    "\n",
    "\n",
    "\n"
   ]
  },
  {
   "cell_type": "code",
   "execution_count": 0,
   "metadata": {
    "application/vnd.databricks.v1+cell": {
     "cellMetadata": {
      "byteLimit": 2048000,
      "rowLimit": 10000
     },
     "inputWidgets": {},
     "nuid": "890f3fd8-ad56-4c05-a4b7-bd274fee7e94",
     "showTitle": true,
     "title": "See various utilities with dbutils.help()"
    }
   },
   "outputs": [
    {
     "output_type": "display_data",
     "data": {
      "text/html": [
       "<div class = \"ansiout\">\n",
       "This module provides various utilities for users to interact with the rest of Databricks.\n",
       "  <h3></h3><b>credentials: DatabricksCredentialUtils</b> -> Utilities for interacting with credentials within notebooks<br /><b>data: DataUtils</b> -> Utilities for understanding and interacting with datasets (EXPERIMENTAL)<br /><b>fs: DbfsUtils</b> -> Manipulates the Databricks filesystem (DBFS) from the console<br /><b>jobs: JobsUtils</b> -> Utilities for leveraging jobs features<br /><b>library: LibraryUtils</b> -> Utilities for session isolated libraries<br /><b>meta: MetaUtils</b> -> Methods to hook into the compiler (EXPERIMENTAL)<br /><b>notebook: NotebookUtils</b> -> Utilities for the control flow of a notebook (EXPERIMENTAL)<br /><b>preview: Preview</b> -> Utilities under preview category<br /><b>secrets: SecretUtils</b> -> Provides utilities for leveraging secrets within notebooks<br /><b>widgets: WidgetsUtils</b> -> Methods to create and get bound value of input widgets inside notebooks<br /><br /></div>"
      ]
     },
     "metadata": {
      "application/vnd.databricks.v1+output": {
       "addedWidgets": {},
       "arguments": {},
       "data": "<div class = \"ansiout\">\nThis module provides various utilities for users to interact with the rest of Databricks.\n  <h3></h3><b>credentials: DatabricksCredentialUtils</b> -> Utilities for interacting with credentials within notebooks<br /><b>data: DataUtils</b> -> Utilities for understanding and interacting with datasets (EXPERIMENTAL)<br /><b>fs: DbfsUtils</b> -> Manipulates the Databricks filesystem (DBFS) from the console<br /><b>jobs: JobsUtils</b> -> Utilities for leveraging jobs features<br /><b>library: LibraryUtils</b> -> Utilities for session isolated libraries<br /><b>meta: MetaUtils</b> -> Methods to hook into the compiler (EXPERIMENTAL)<br /><b>notebook: NotebookUtils</b> -> Utilities for the control flow of a notebook (EXPERIMENTAL)<br /><b>preview: Preview</b> -> Utilities under preview category<br /><b>secrets: SecretUtils</b> -> Provides utilities for leveraging secrets within notebooks<br /><b>widgets: WidgetsUtils</b> -> Methods to create and get bound value of input widgets inside notebooks<br /><br /></div>",
       "datasetInfos": [],
       "metadata": {},
       "removedWidgets": [],
       "textData": null,
       "type": "htmlSandbox"
      }
     },
     "output_type": "display_data"
    }
   ],
   "source": [
    "dbutils.help()\n"
   ]
  },
  {
   "cell_type": "markdown",
   "metadata": {
    "application/vnd.databricks.v1+cell": {
     "cellMetadata": {},
     "inputWidgets": {},
     "nuid": "a4267f78-7ccb-4dcb-abe1-f1f2d48689ac",
     "showTitle": false,
     "title": ""
    }
   },
   "source": [
    "# 🏁 Conclusion - End of Beginning!\n",
    "\n",
    "> You made it! In this section, you were introduced to the following __Notebook Basics__: \n",
    "\n",
    "1. How to Attach Notebooks to a Cluster\n",
    "1. Running your code\n",
    "1. Using Markdown\n",
    "1. dbutils\n",
    "\n",
    ">> Here are some other great resources you should check out if you want to know more about __Databricks Notebooks__:\n",
    "\n",
    "1. [Tutorial - Notebook Basics](https://www.youtube.com/watch?v=zhUtu0J8LWg) from __Pearl Ubaru__ - Technical Product Marketing Engineer @ Databricks\n",
    "1. [Getting Stated with the new Databricks Notebook Experience](https://www.youtube.com/watch?v=YgAtny2qoqQ&t=10s) from [NextGenLakehouse](https://www.youtube.com/@nextgenlakehouse) and __Jason Messer__ - Product @ Databricks\n",
    "1. [Advancing Spark - Databricks In-Browser Interactive Debugger](https://www.youtube.com/watch?v=hiLNTE4DNLU&t=172s) from __Simon Whiteley__ - CTO & Co-Owner @ Advancing Analytics\n"
   ]
  }
 ],
 "metadata": {
  "application/vnd.databricks.v1+notebook": {
   "dashboards": [],
   "environmentMetadata": null,
   "language": "python",
   "notebookMetadata": {
    "mostRecentlyExecutedCommandWithImplicitDF": {
     "commandId": 419886151158572,
     "dataframes": [
      "_sqldf"
     ]
    },
    "pythonIndentUnit": 4
   },
   "notebookName": "1. Intro to Notebooks",
   "widgets": {}
  },
  "language_info": {
   "name": "python"
  }
 },
 "nbformat": 4,
 "nbformat_minor": 0
}
